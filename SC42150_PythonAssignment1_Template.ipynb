{
 "cells": [
  {
   "cell_type": "markdown",
   "metadata": {},
   "source": [
    "# SC42150 - Python assignment 1\n",
    "\n",
    "## Simulating a Stochastic Damped Harmonic Oscillator \n",
    "\n",
    "This is the template for for the first Phyton assignment given in the course SC42150. Use this template to answer the question. "
   ]
  },
  {
   "cell_type": "markdown",
   "metadata": {},
   "source": [
    "# Team members\n",
    "\n",
    "Name (student number): Danny Looman (4573269)\n",
    "\n",
    "Name (student number): Bas van Vliet (4594959)"
   ]
  },
  {
   "cell_type": "markdown",
   "metadata": {},
   "source": [
    "### How to use the template\n",
    "As you will see there are two types of cells in this Jupyter Notebook, **Python** cells indicated with `In [ ]:` and **Markdown** cells that have no marking to the left of the cell.\n",
    "\n",
    "1. The **Python** works in the usual way. Enter your code and press `Shift Enter` to run the cell. The output will be displayed below the cell. Variables and functions will be accessible by the other cells after you have run the code. \n",
    "\n",
    "2. The **Markdown** cells use the Markdown type setting language. This is a very simple type setting system. Check the [Cheatsheet](https://github.com/adam-p/markdown-here/wiki/Markdown-Cheatsheet) for a overview of the commends. Furthermore, **Markdown** works with **LaTeX** math, `$ $` for inline equations and `$$ $$` for centered equations. press `Shift Enter` to compile the text.\n",
    "\n",
    "After you have answered the questions and are finished with the assignment you can export the **Jupyter Notebook** as a PDF. Go to the top left, click on `File` then `Download As` and Choose **PDF**. If this feature is not supported by your system, you can also choose **LaTeX**. Then you Download a **LaTeX** project. You can then use your preferred **LaTeX** compiler to create the **PDF**. After generation you PDF report, please double check if all answers/plots are correctly displayed.\n",
    "\n",
    "More information about Jupyter Notebooks can be easily found online."
   ]
  },
  {
   "cell_type": "markdown",
   "metadata": {},
   "source": [
    "### Useful python packages"
   ]
  },
  {
   "cell_type": "code",
   "execution_count": 34,
   "metadata": {},
   "outputs": [],
   "source": [
    "import math\n",
    "import cmath\n",
    "import numpy\n",
    "import numpy as np\n",
    "import matplotlib.pyplot as plt"
   ]
  },
  {
   "cell_type": "markdown",
   "metadata": {},
   "source": [
    "## Question 1\n",
    "If the random process $x(k)$ is wide-sense stationary (WSS), what can you say about its mean and variance? And what if the process is not WSS? **1 point**\n",
    "\n",
    "provide: \n",
    "* *an answer with explanation*"
   ]
  },
  {
   "cell_type": "markdown",
   "metadata": {},
   "source": [
    "### Answer 1\n",
    "The mean of random process $x(k)$ does not change over time and is finite: $$m_x(k) = m_x < \\infty$$\n",
    "\n",
    "The variance of random process $x(k)$ do not change over time as stated in remark 5.7 of the lecture notes.\n",
    "$$var_x=r_x(0)-m_x^2$$\n",
    "\n",
    "If the process is not WSS we cannot say something about the mean and variance, the process can still be first order stationary (has a constant mean)."
   ]
  },
  {
   "cell_type": "markdown",
   "metadata": {},
   "source": [
    "## Question 2\n",
    "Approximate the derivative operator $\\frac{d(\\cdot)}{d t}$ and the second order derivative operator $\\frac{d^2(\\cdot)}{d t^2}$.  Subsequently replace the white noise signal $w(t)$ by a discrete white noise sequence as out lined in the theory section. Let $x(k)$ be an approximation of $x(t)$ for $t = k \\Delta t$, then we ask you to write your result into the following second order difference equation form\n",
    "\n",
    "$$ x(k)+ b_1 x(k-1) + b_2 x(k-2) = b_3 \\tilde{w}(k).$$\n",
    "\n",
    "Provide:\n",
    "\n",
    "* *derivation for the second order difference equation* **2 points**\n",
    "* *analytic expression for $b_1$, $b_2$, and $b_3$* **1 point**\n",
    "* *numerical values for $b_1$, $b_2$, and $b_3$* **1 point**\n"
   ]
  },
  {
   "cell_type": "markdown",
   "metadata": {},
   "source": [
    "### Answer 2\n",
    "(1) The derivation of the coefficients:\n",
    "\n",
    "$$ v(t) = \\frac{dx(t)}{dt}\\approx \\frac{x(k) - x(k-1)}{\\Delta t}$$\n",
    "\n",
    "$$ \\frac{dv(t)}{dt} = -\\omega^2 x(t)-\\gamma v(t) +  \\beta w(t) $$\n",
    "\n",
    "$$ \\frac{dv(t)}{dt} = \\frac{dx(t)^2}{dt^2}\\approx \\frac{v(k) - v(k-1)}{\\Delta t} = \\frac{x(k) - 2*x(k-1) + x(k-2)}{\\Delta t^2} $$\n",
    "\n",
    "$$ w(t) \\approx \\frac{\\tilde{w}(k)}{\\sqrt{\\Delta t}} $$\n",
    "\n",
    "$$ \\frac{x(k) - 2x(k-1) + x(k-2)}{\\Delta t^2} = - \\omega^2x(t) - \\frac{\\gamma}{\\Delta t}(x(k) - x(k-1)) + \\frac{\\beta}{\\sqrt{\\Delta t}}\\tilde{w}(k) $$\n",
    "\n",
    "$$ x(k) - 2x(k-1) + x(k-2) = - \\omega^2\\Delta t^2x(t) - \\gamma \\Delta t x(k) - \\gamma\\Delta t x(k-1) + \\frac{\\beta \\Delta t^2}{\\sqrt{\\Delta t}}\\tilde{w}(k) $$\n",
    "\n",
    "$$ (1 + \\gamma\\Delta t + \\omega^2\\Delta t^2)x(t) + (\\gamma\\Delta t - 2)x(k-1) + x(k-2) = \\frac{\\beta \\Delta t^2}{\\sqrt{\\Delta t}}\\tilde{w}(k) $$\n",
    "\n",
    "$$ x(t) + \\frac{\\gamma\\Delta t - 2}{1 + \\gamma\\Delta t + \\omega^2\\Delta t^2}x(k-1) + \\frac{1}{1 + \\gamma\\Delta t + \\omega^2\\Delta t^2}x(k-2) = \\frac{\\beta \\Delta t^2}{\\sqrt{\\Delta t} (1 + \\gamma\\Delta t + \\omega^2\\Delta t^2)}\\tilde{w}(k) $$\n",
    "\n",
    "$$ x(k)+ b_1 x(k-1) + b_2 x(k-2) = b_3 \\tilde{w}(k).$$\n",
    "\n",
    "(2) an analytic expression for the coefficients bi for i = 1; 2; 3\n",
    "\n",
    "$$ b1 = \\frac{\\gamma\\Delta t - 2}{1 + \\gamma\\Delta t + \\omega^2\\Delta t^2} $$\n",
    "\n",
    "$$ b2 = \\frac{1}{1 + \\gamma\\Delta t + \\omega^2\\Delta t^2} $$\n",
    "\n",
    "$$ b3 = \\frac{\\beta \\Delta t^2}{\\sqrt{\\Delta t} (1 + \\gamma\\Delta t + \\omega^2\\Delta t^2)} $$\n",
    "\n",
    "(3) their numerical values making use of the data given in Table 2.1."
   ]
  },
  {
   "cell_type": "code",
   "execution_count": 35,
   "outputs": [
    {
     "name": "stdout",
     "output_type": "stream",
     "text": [
      "-1.996985042092529 0.9989920170547919 2.5272721105751333e-08\n"
     ]
    }
   ],
   "source": [
    "#variables\n",
    "N = 10^4\n",
    "delta_t = 10**-3\n",
    "omega = 3.0\n",
    "gamma = 1.0\n",
    "beta = 0.8\n",
    "b1 = (gamma * delta_t - 2)/(1 + gamma * delta_t + omega**2 * delta_t**2)\n",
    "b2 = 1/(1 + gamma * delta_t+ omega**2 * delta_t**2)\n",
    "b3 = (beta*delta_t**2)*(math.sqrt(delta_t)) / (1 + gamma * delta_t + omega**2 * delta_t**2)\n",
    "print(b1,b2,b3)"
   ],
   "metadata": {
    "collapsed": false,
    "pycharm": {
     "name": "#%%\n"
    }
   }
  },
  {
   "cell_type": "markdown",
   "metadata": {},
   "source": [
    "## Question 3\n",
    "\n",
    "Determine the Z-transform of the dynamical system described by the difference equation from the previous question. Also determine the poles, both analytically and numerically. Is this system (BIBO) stable?\n",
    "\n",
    "Provide:\n",
    "\n",
    "* *The Z-transform of the dynamical system.* **$\\frac{1}{2}$ point**\n",
    "* *The poles analytically.* **$\\frac{1}{2}$ point**\n",
    "* *The poles numerically.* **$\\frac{1}{2}$ point**\n",
    "* *Is the system is BIBO stable? (explain why)* **$\\frac{1}{2}$ point**"
   ]
  },
  {
   "cell_type": "markdown",
   "source": [
    "### Answer 3\n",
    "The difference model is in AR from, therefore the Z-transform of the dynamical system can be found using equation 6.11 from the lecture notes.\n",
    "\n",
    "$H(z) = \\frac{b_3}{1 + b_1z^{-1} + b_2z^{-2}}$\n",
    "\n",
    "- The poles analytically\n",
    "\n",
    "Set the denominator equal to zero\n",
    "$1 + b_1z^{-1} + b_2z^{-2}=0$\n",
    "\n",
    "$b_2^{-1}z^{2} + b_1^{-1}z + 1=0$\n",
    "\n",
    "$ z_{1,2} = \\frac{-b_1^{-1} \\pm \\sqrt{(b_1^{-1})^{2} -4b_2^{-1}}}{2b_2^{-1}}$\n",
    "\n",
    "$ z_{1,2} = \\frac{-b_1^{-1} \\pm \\sqrt{b_1^{-2} -4b_2^{-1}}}{2b_2^{-1}}$\n",
    "\n",
    "- See the code for the numerical values of the poles\n",
    "\n",
    "- is the system BIBO stable?\n",
    "\n",
    "Since the real part of the eigenvalues lies within the unit circle,\n",
    "the ROC contains the unit circle.\n",
    "Hence, the system is BIBO stable"
   ],
   "metadata": {
    "collapsed": false
   }
  },
  {
   "cell_type": "code",
   "execution_count": 36,
   "outputs": [
    {
     "name": "stdout",
     "output_type": "stream",
     "text": [
      "(-0.5007548774387193+0.969646648787632j) (-0.5007548774387193-0.969646648787632j)\n"
     ]
    }
   ],
   "source": [
    "#compute the poles numerically\n",
    "z1 = b1**-1 + cmath.sqrt(b1**-2 -4*b2**-1)/2*b2**-1\n",
    "z2 = b1**-1 - cmath.sqrt(b1**-2 -4*b2**-1)/2*b2**-1\n",
    "print(z1,z2)"
   ],
   "metadata": {
    "collapsed": false,
    "pycharm": {
     "name": "#%%\n"
    }
   }
  },
  {
   "cell_type": "markdown",
   "source": [
    "## Question 4\n",
    "\n",
    "Simulate the difference equation of question 2 for $k = 3,\\cdots ,N$ using the initial conditions $x(1) = x(2) = 0$. To do this you should generate discrete white noise samples using `numpy.random.randn()`.\n",
    "\n",
    "Provide:\n",
    "\n",
    "* *the script used to generate $N$ samples of $x(k)$.* **1 point**\n",
    "* *a plot of one realization of sequence $x(k)$.* **1 point**"
   ],
   "metadata": {
    "collapsed": false
   }
  },
  {
   "cell_type": "markdown",
   "source": [
    "## Question 4\n",
    "\n",
    "Simulate the difference equation of question 2 for $k = 3,\\cdots ,N$ using the initial conditions $x(1) = x(2) = 0$. To do this you should generate discrete white noise samples using `numpy.random.randn()`.\n",
    "\n",
    "Provide:\n",
    "\n",
    "* *the script used to generate $N$ samples of $x(k)$.* **1 point**\n",
    "* *a plot of one realization of sequence $x(k)$.* **1 point**"
   ],
   "metadata": {
    "collapsed": false
   }
  },
  {
   "cell_type": "markdown",
   "source": [
    "## Question 4\n",
    "\n",
    "Simulate the difference equation of question 2 for $k = 3,\\cdots ,N$ using the initial conditions $x(1) = x(2) = 0$. To do this you should generate discrete white noise samples using `numpy.random.randn()`.\n",
    "\n",
    "Provide:\n",
    "\n",
    "* *the script used to generate $N$ samples of $x(k)$.* **1 point**\n",
    "* *a plot of one realization of sequence $x(k)$.* **1 point**"
   ],
   "metadata": {
    "collapsed": false
   }
  },
  {
   "cell_type": "markdown",
   "metadata": {},
   "source": [
    "## Question 4\n",
    "\n",
    "Simulate the difference equation of question 2 for $k = 3,\\cdots ,N$ using the initial conditions $x(1) = x(2) = 0$. To do this you should generate discrete white noise samples using `numpy.random.randn()`.\n",
    "\n",
    "Provide:\n",
    "\n",
    "* *the script used to generate $N$ samples of $x(k)$.* **1 point**\n",
    "* *a plot of one realization of sequence $x(k)$.* **1 point**"
   ]
  },
  {
   "cell_type": "markdown",
   "metadata": {},
   "source": [
    "## Question 4\n",
    "\n",
    "Simulate the difference equation of question 2 for $k = 3,\\cdots ,N$ using the initial conditions $x(1) = x(2) = 0$. To do this you should generate discrete white noise samples using `numpy.random.randn()`.\n",
    "\n",
    "Provide:\n",
    "\n",
    "* *the script used to generate $N$ samples of $x(k)$.* **1 point**\n",
    "* *a plot of one realization of sequence $x(k)$.* **1 point**"
   ]
  },
  {
   "cell_type": "markdown",
   "metadata": {},
   "source": [
    "### Answer 4\n",
    "$$ x(k)+ b_1 x(k-1) + b_2 x(k-2) = b_3 \\tilde{w}(k)$$\n",
    "\n",
    "Rewrite to:\n",
    "\n",
    "$$ x(k)  = b_3 \\tilde{w}(k) - b_1 x(k-1) - b_2 x(k-2)$$\n",
    "\n",
    "With initial conditions\n",
    "\n",
    "x(1) = x(2) = 0"
   ]
  },
  {
   "cell_type": "code",
   "execution_count": 56,
   "outputs": [
    {
     "data": {
      "text/plain": "[<matplotlib.lines.Line2D at 0x22d8cd18eb0>]"
     },
     "execution_count": 56,
     "metadata": {},
     "output_type": "execute_result"
    },
    {
     "data": {
      "text/plain": "<Figure size 432x288 with 1 Axes>",
      "image/png": "[encoded data removed]"
     },
     "metadata": {
      "needs_background": "light"
     },
     "output_type": "display_data"
    }
   ],
   "source": [
    "#initial conditions\n",
    "N = 1000 #Number of Samples\n",
    "x = np.zeros(N)\n",
    "x[0] = 0\n",
    "x[1] = 0\n",
    "omega = np.random.randn(N)\n",
    "\n",
    "for k in range(2,N):\n",
    "    x[k]  = b3*omega[k] - b1*x[k-1] - b2*x[k-2]\n",
    "\n",
    "#fig = plt.figure()\n",
    "# plot the x\n",
    "plt.plot(x)\n"
   ],
   "metadata": {
    "collapsed": false,
    "pycharm": {
     "name": "#%%\n"
    }
   }
  },
  {
   "cell_type": "markdown",
   "metadata": {},
   "source": [
    "## Question 5\n",
    "\n",
    "Let us denote one realization of the solution of the difference equation by $x(k,\\lambda)$ for $\\lambda = 1$ and the used white noise sequence by ˜ $w(k,1)$. Then the task is to generate $L$ realizations $x(k,\\lambda)$ for $\\lambda = 1,\\cdots,L$, with each realization generated for a different realization of the discrete time white noise sequence ˜ $w(k,\\lambda)$. \n",
    "\n",
    "provide:\n",
    "\n",
    "* *script use to generate $L$ realizations of $x(k,\\lambda)$.* **1 point**\n",
    "* *plot of all $L$ realizations for $L = 30$.* **1 point**"
   ]
  },
  {
   "cell_type": "markdown",
   "metadata": {},
   "source": [
    "### Answer 5"
   ]
  },
  {
   "cell_type": "code",
   "execution_count": 62,
   "outputs": [
    {
     "name": "stdout",
     "output_type": "stream",
     "text": [
      "[[0. 0. 0. 0.]\n",
      " [1. 1. 1. 1.]\n",
      " [0. 0. 0. 0.]\n",
      " [0. 0. 0. 0.]\n",
      " [0. 0. 0. 0.]\n",
      " [0. 0. 0. 0.]\n",
      " [0. 0. 0. 0.]\n",
      " [0. 0. 0. 0.]\n",
      " [0. 0. 0. 0.]\n",
      " [0. 0. 0. 0.]]\n"
     ]
    },
    {
     "ename": "IndexError",
     "evalue": "index 0 is out of bounds for axis 1 with size 0",
     "output_type": "error",
     "traceback": [
      "\u001B[1;31m---------------------------------------------------------------------------\u001B[0m",
      "\u001B[1;31mIndexError\u001B[0m                                Traceback (most recent call last)",
      "\u001B[1;32m<ipython-input-62-58a10e5f6aca>\u001B[0m in \u001B[0;36m<module>\u001B[1;34m\u001B[0m\n\u001B[0;32m     10\u001B[0m     \u001B[0momega\u001B[0m \u001B[1;33m=\u001B[0m \u001B[0mnp\u001B[0m\u001B[1;33m.\u001B[0m\u001B[0mrandom\u001B[0m\u001B[1;33m.\u001B[0m\u001B[0mrandn\u001B[0m\u001B[1;33m(\u001B[0m\u001B[0mN\u001B[0m\u001B[1;33m,\u001B[0m\u001B[0mlabda\u001B[0m\u001B[1;33m)\u001B[0m\u001B[1;33m\u001B[0m\u001B[1;33m\u001B[0m\u001B[0m\n\u001B[0;32m     11\u001B[0m     \u001B[1;32mfor\u001B[0m \u001B[0mk\u001B[0m \u001B[1;32min\u001B[0m \u001B[0mrange\u001B[0m\u001B[1;33m(\u001B[0m\u001B[1;36m2\u001B[0m\u001B[1;33m,\u001B[0m\u001B[0mN\u001B[0m\u001B[1;33m-\u001B[0m\u001B[1;36m1\u001B[0m\u001B[1;33m)\u001B[0m\u001B[1;33m:\u001B[0m\u001B[1;33m\u001B[0m\u001B[1;33m\u001B[0m\u001B[0m\n\u001B[1;32m---> 12\u001B[1;33m         \u001B[0mx\u001B[0m\u001B[1;33m[\u001B[0m\u001B[0mk\u001B[0m\u001B[1;33m,\u001B[0m\u001B[0mlabda\u001B[0m\u001B[1;33m]\u001B[0m  \u001B[1;33m=\u001B[0m \u001B[0mb3\u001B[0m\u001B[1;33m*\u001B[0m\u001B[0momega\u001B[0m\u001B[1;33m[\u001B[0m\u001B[0mk\u001B[0m\u001B[1;33m,\u001B[0m\u001B[0mlabda\u001B[0m\u001B[1;33m]\u001B[0m \u001B[1;33m-\u001B[0m \u001B[0mb1\u001B[0m\u001B[1;33m*\u001B[0m\u001B[0mx\u001B[0m\u001B[1;33m[\u001B[0m\u001B[0mk\u001B[0m\u001B[1;33m-\u001B[0m\u001B[1;36m1\u001B[0m\u001B[1;33m,\u001B[0m\u001B[0mlabda\u001B[0m\u001B[1;33m]\u001B[0m \u001B[1;33m-\u001B[0m \u001B[0mb2\u001B[0m\u001B[1;33m*\u001B[0m\u001B[0mx\u001B[0m\u001B[1;33m[\u001B[0m\u001B[0mk\u001B[0m\u001B[1;33m-\u001B[0m\u001B[1;36m2\u001B[0m\u001B[1;33m,\u001B[0m\u001B[0mlabda\u001B[0m\u001B[1;33m]\u001B[0m\u001B[1;33m\u001B[0m\u001B[1;33m\u001B[0m\u001B[0m\n\u001B[0m\u001B[0;32m     13\u001B[0m \u001B[0mfig\u001B[0m \u001B[1;33m=\u001B[0m \u001B[0mplt\u001B[0m\u001B[1;33m.\u001B[0m\u001B[0mfigure\u001B[0m\u001B[1;33m(\u001B[0m\u001B[1;33m)\u001B[0m\u001B[1;33m\u001B[0m\u001B[1;33m\u001B[0m\u001B[0m\n\u001B[0;32m     14\u001B[0m \u001B[1;31m# plot the x\u001B[0m\u001B[1;33m\u001B[0m\u001B[1;33m\u001B[0m\u001B[1;33m\u001B[0m\u001B[0m\n",
      "\u001B[1;31mIndexError\u001B[0m: index 0 is out of bounds for axis 1 with size 0"
     ]
    }
   ],
   "source": [
    "#initial conditions\n",
    "N = 10 #Number of Sample\n",
    "l = 4\n",
    "x = np.zeros((N,l))\n",
    "#omega = np.zeros((N,l))\n",
    "x[0] = 0\n",
    "x[1] = 1\n",
    "print(x)\n",
    "for labda in range(l):\n",
    "    omega = np.random.randn(N,labda)\n",
    "    for k in range(2,N-1):\n",
    "        x[k,labda]  = b3*omega[k,labda] - b1*x[k-1,labda] - b2*x[k-2,labda]\n",
    "fig = plt.figure()\n",
    "# plot the x\n",
    "plt.plot(x)"
   ],
   "metadata": {
    "collapsed": false,
    "pycharm": {
     "name": "#%%\n"
    }
   }
  },
  {
   "cell_type": "markdown",
   "metadata": {},
   "source": [
    "## Question 6\n",
    "\n",
    "Using the L realizations of the previous questions, estimate the mean and variance of the stochastic process $x(k)$. Here, you can use the approximation \n",
    "\n",
    "$$E[x(k)] \\sim \\frac{1}{L} \\sum^{L}_{\\lambda = 1} x(k, \\lambda)$$\n",
    "\n",
    "and a similar approximation for the variance, or use the available built-in `numpy` commands. \n",
    "\n",
    "Provide:\n",
    "\n",
    "* *A script to calculate the mean and variance.* **1 point**\n",
    "* *A plot of the mean and the variance over time.* **1 point**\n"
   ]
  },
  {
   "cell_type": "markdown",
   "metadata": {},
   "source": [
    "### Answer 6\n",
    "_Insert the cells with your answer below._"
   ]
  },
  {
   "cell_type": "markdown",
   "metadata": {},
   "source": [
    "## Question 7\n",
    "Based on the results of the previous question, is the the stochastic process $x(k)$ WSS? Why or why not? **1 point**"
   ]
  },
  {
   "cell_type": "markdown",
   "metadata": {},
   "source": [
    "### Answer 7\n",
    "_Insert the cells with your answer below._"
   ]
  },
  {
   "cell_type": "markdown",
   "metadata": {},
   "source": [
    "## Question 8\n",
    "\n",
    "The mean and variance of the stochastic process $x(t)$ can also be calculated analytically. This leads to the following expressions,\n",
    "\n",
    "$$ \\mu_x (t) = e^{-\\gamma t/2}\\bigg( x_0 \\cos(\\omega' t) + \\gamma x_0 \\frac{\\sin(\\omega' t)}{2 \\omega'} \\bigg), $$\n",
    "\n",
    "$$ \\sigma^2_x (t) = \\frac{\\beta^2}{2\\gamma \\omega^2} + e^{-\\gamma t} \\bigg( \\frac{\\beta^2}{8\\gamma \\omega'^2 \\omega^2} \\bigg)\n",
    "\\big(  -4\\omega^2 + \\gamma^2 \\cos(\\omega' t) - 2\\gamma \\omega' \\sin(2 \\omega' t)\\big). $$\n",
    "\n",
    "Here, $\\omega'$ is another frequency parameter with the value $\\omega' = \\sqrt{\\omega^2-\\gamma^2/4}$, and $x_0$ is the value of $x$ at time $t = 0$(note that in this case this value greatly simplifies  the expression). Compare the theoretical mean and variance with the estimated ones from question $6$ for different values of $L$.\n",
    "\n",
    "provide:\n",
    "\n",
    "* *The script used to calculate the theoretical mean and variance.* **1 point**\n",
    "* *A plot of both the theoretical mean and variance together with the estimated onces from question $6$ as a function of time. Plot all four sequences in one plot. make three plots one for $L = 30$, one for $L = 300$, and one for $L = 3000$.* **2 points**"
   ]
  },
  {
   "cell_type": "markdown",
   "metadata": {},
   "source": [
    "### Answer 8\n",
    "_Insert the cells with your answer below._"
   ]
  },
  {
   "cell_type": "markdown",
   "metadata": {},
   "source": [
    "## Question  9\n",
    "How do the estimations of the mean and variance vary with respect to the number of realizations $L$? **1 point**"
   ]
  },
  {
   "cell_type": "markdown",
   "metadata": {},
   "source": [
    "### Answer 9\n",
    "_Insert the cells with your answer below._"
   ]
  },
  {
   "cell_type": "markdown",
   "metadata": {},
   "source": [
    "## Question 10\n",
    "\n",
    "Use the results from questions 6-9 and from question 3 to make a final conclusion on whether the stochastic process $x(k)$ is WSS or not, with motivation. **2 points**\n"
   ]
  },
  {
   "cell_type": "markdown",
   "metadata": {},
   "source": [
    "### Answer 10\n",
    "_Insert the cells with your answer below._"
   ]
  }
 ],
 "metadata": {
  "celltoolbar": "Raw Cell Format",
  "kernelspec": {
   "name": "python3",
   "language": "python",
   "display_name": "Python 3"
  },
  "language_info": {
   "codemirror_mode": {
    "name": "ipython",
    "version": 3
   },
   "file_extension": ".py",
   "mimetype": "text/x-python",
   "name": "python",
   "nbconvert_exporter": "python",
   "pygments_lexer": "ipython3",
   "version": "3.8.3"
  }
 },
 "nbformat": 4,
 "nbformat_minor": 2
}