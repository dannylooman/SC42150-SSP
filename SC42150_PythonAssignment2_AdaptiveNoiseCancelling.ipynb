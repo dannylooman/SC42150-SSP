{
 "cells": [
  {
   "cell_type": "markdown",
   "metadata": {},
   "source": [
    "# SC42150 - Python assignment 2\n",
    "\n",
    "Adaptive Noise Cancellation Applied to RF Communication\n",
    "\n"
   ]
  },
  {
   "cell_type": "markdown",
   "metadata": {},
   "source": [
    "## Team members\n",
    "\n",
    "Name (student number): Danny Looman (4573269)\n",
    "\n",
    "Name (student number): Bas van Vliet (4594959)"
   ]
  },
  {
   "cell_type": "markdown",
   "metadata": {},
   "source": [
    "## Introduction\n",
    "\n",
    "This application follows the theory from Chapter 9. The goal of adaptive noise\n",
    "cancellation is to remove interference from a signal of interest by means of a\n",
    "correlated noise reference signal. In this example, we consider an RF communication system consisting of an\n",
    "emitter and a receiver. These systems experience noise at the receiver that causes\n",
    "signal degradation. The interference originates from the thermal noise of the system\n",
    "and from the RF environment. The receiver measures signals of interest\n",
    "on the main channel and reference noise on a secondary channel. Since both\n",
    "channels have different propagation delays and distortions, the noise signals are\n",
    "distinct. However, the unwanted noise in the primary port and the reference\n",
    "noise are highly correlated. Therefore, it is possible to design a linear FIR filter\n",
    "that produces an estimate of the interference from the primary channel. We wish\n",
    "to use the theory of Wiener filters to recover the underlying audio signal."
   ]
  },
  {
   "cell_type": "markdown",
   "metadata": {},
   "source": [
    "## Reporting\n",
    "\n",
    "\n",
    "The report of this python exercise consists of a PDF version of this Jupyter Notebook file, with your answers added after each question. Answers will consist of code and/or text (markdown) cells.\n",
    "In order to create a PDF version of this file, go to the top left, click on `File` then `Download As` and Choose **PDF**.\n",
    "If this feature is not supported by your system, you can also choose **LaTeX**.\n",
    "Then, you can use your preferred **LaTeX** compiler to create the **PDF**. After generation you PDF report, please double check if all answers/plots are correctly displayed.\n",
    "\n",
    "Moreover, you will also need to send the .mat file with the signals used in this exercise. Don't forget to edit your team member's name and student number above. You will submit one Jupyter notebook per team."
   ]
  },
  {
   "cell_type": "markdown",
   "metadata": {},
   "source": [
    "## First steps\n",
    "\n",
    "Make sure that the files `Audio.py`, `Communication.py` and `anc.jpg` are included in the same directory as this Jupyter notebook. Run the following code:"
   ]
  },
  {
   "cell_type": "code",
   "execution_count": 1,
   "metadata": {},
   "outputs": [
    {
     "name": "stderr",
     "output_type": "stream",
     "text": [
      "'pip' is not recognized as an internal or external command,\n",
      "operable program or batch file.\n",
      "'pip' is not recognized as an internal or external command,\n",
      "operable program or batch file.\n",
      "'pip' is not recognized as an internal or external command,\n",
      "operable program or batch file.\n"
     ]
    }
   ],
   "source": [
    "! pip install pyserial\n",
    "! pip install sounddevice\n",
    "! pip install scipy"
   ]
  },
  {
   "cell_type": "markdown",
   "metadata": {},
   "source": [
    "**Note:** You only need to execute this code snippet once, after that your python will permanently include the modules. If the the code gives an error, manually install the modules using pip in the command prompt. In Windows: start button->search, type cmd->`pip install package_name`"
   ]
  },
  {
   "cell_type": "markdown",
   "metadata": {},
   "source": [
    "## Question 1\n",
    "Follow the instructions bellow in order to transmit/receive the signals that will be used in this assignment."
   ]
  },
  {
   "cell_type": "markdown",
   "metadata": {},
   "source": [
    "### Signal transmission\n",
    "\n",
    "- Place a 32-bit .wav file in the same folder as this jupyter notebook (you can use the `piano.wav` or `gong.wav` files provided). Fill in the filename in the function `Audio.read_audiofile('filename.wav',length_seconds)` to load the audio;\n",
    "- Set a desired duration for the transfer. It is recommended to start with signal lengths of one second to three, since serial transmission is a slow protocol;\n",
    "- Connect the transceiver to a USB port. If the device is functioning properly, when instantiating the `Communication.Comm()` object you will get the following message: `Device recognized`;\n",
    "- For signal transmission to take place, the receiving computer must be \"listening\" for signals. Make sure that the **receiver code snippet is running before executing sending**. When signal transmission starts, you will get a `started` message;\n",
    "- It is suggested to start with short distances between the transmitter and the receiver, shorter than 1 meter. This will keep the SNR at acceptable levels."
   ]
  },
  {
   "cell_type": "markdown",
   "metadata": {},
   "source": [
    "### Signal acquisition\n",
    "\n",
    "- There are two channels on the antenna of the dongles. The first listens for signals. The second channel measures adjacent noise from the environment which is correlated with the noise in the main channel. When you call `receiver.receive()`, you get two return values: the first one measures the signal from the emitters and the second measures a brown noise signal;\n",
    "- When the signal is received, the program will display the message `done`."
   ]
  },
  {
   "cell_type": "markdown",
   "metadata": {},
   "source": [
    "### Receive Signal: run on receiving PC"
   ]
  },
  {
   "cell_type": "code",
   "execution_count": 13,
   "metadata": {},
   "outputs": [
    {
     "name": "stdout",
     "output_type": "stream",
     "text": [
      "Device recognized\n",
      "started\n",
      "done\n"
     ]
    }
   ],
   "source": [
    "import Audio\n",
    "import Communication\n",
    "import numpy as np\n",
    "\n",
    "receiver = Communication.Comm()\n",
    "\n",
    "audio_sig, channelNoise_sig = receiver.receive()"
   ]
  },
  {
   "cell_type": "markdown",
   "metadata": {},
   "source": [
    "### Send signal: run on sending PC"
   ]
  },
  {
   "cell_type": "markdown",
   "metadata": {},
   "source": [
    "**Note**: Execute after the paired PC has executed the receiving code"
   ]
  },
  {
   "cell_type": "code",
   "execution_count": 2,
   "metadata": {},
   "outputs": [
    {
     "name": "stderr",
     "output_type": "stream",
     "text": [
      "ERROR:root:Internal Python error in the inspect module.\n",
      "Below is the traceback from this internal error.\n",
      "\n"
     ]
    },
    {
     "name": "stdout",
     "output_type": "stream",
     "text": [
      "Traceback (most recent call last):\n",
      "  File \"C:\\Users\\Danny\\Documents\\2. Msc Systems & Control\\SC42150 - Statistical Signal Processing\\Communication.py\", line 36, in __init__\n",
      "    self.serialPort = serial.Serial(  # create serial object\n",
      "  File \"c:\\users\\danny\\documents\\2. msc systems & control\\sc42150 - statistical signal processing\\venv\\lib\\site-packages\\serial\\serialwin32.py\", line 31, in __init__\n",
      "    super(Serial, self).__init__(*args, **kwargs)\n",
      "  File \"c:\\users\\danny\\documents\\2. msc systems & control\\sc42150 - statistical signal processing\\venv\\lib\\site-packages\\serial\\serialutil.py\", line 240, in __init__\n",
      "    self.open()\n",
      "  File \"c:\\users\\danny\\documents\\2. msc systems & control\\sc42150 - statistical signal processing\\venv\\lib\\site-packages\\serial\\serialwin32.py\", line 62, in open\n",
      "    raise SerialException(\"could not open port {!r}: {!r}\".format(self.portstr, ctypes.WinError()))\n",
      "serial.serialutil.SerialException: could not open port 'COM3': PermissionError(13, 'Access is denied.', None, 5)\n",
      "\n",
      "During handling of the above exception, another exception occurred:\n",
      "\n",
      "Traceback (most recent call last):\n",
      "  File \"c:\\users\\danny\\documents\\2. msc systems & control\\sc42150 - statistical signal processing\\venv\\lib\\site-packages\\IPython\\core\\interactiveshell.py\", line 3417, in run_code\n",
      "    exec(code_obj, self.user_global_ns, self.user_ns)\n",
      "  File \"<ipython-input-2-edf684283093>\", line 6, in <module>\n",
      "    transmit = Communication.Comm()\n",
      "  File \"C:\\Users\\Danny\\Documents\\2. Msc Systems & Control\\SC42150 - Statistical Signal Processing\\Communication.py\", line 41, in __init__\n",
      "    sys.exit(\"No device connected or recognized\")  # if no ports are found, exit the program\n",
      "SystemExit: No device connected or recognized\n",
      "\n",
      "During handling of the above exception, another exception occurred:\n",
      "\n",
      "Traceback (most recent call last):\n",
      "  File \"c:\\users\\danny\\documents\\2. msc systems & control\\sc42150 - statistical signal processing\\venv\\lib\\site-packages\\IPython\\core\\ultratb.py\", line 1169, in get_records\n",
      "    return _fixed_getinnerframes(etb, number_of_lines_of_context, tb_offset)\n",
      "  File \"c:\\users\\danny\\documents\\2. msc systems & control\\sc42150 - statistical signal processing\\venv\\lib\\site-packages\\IPython\\core\\ultratb.py\", line 316, in wrapped\n",
      "    return f(*args, **kwargs)\n",
      "  File \"c:\\users\\danny\\documents\\2. msc systems & control\\sc42150 - statistical signal processing\\venv\\lib\\site-packages\\IPython\\core\\ultratb.py\", line 350, in _fixed_getinnerframes\n",
      "    records = fix_frame_records_filenames(inspect.getinnerframes(etb, context))\n",
      "  File \"C:\\Users\\Danny\\AppData\\Local\\Programs\\Python\\Python38\\lib\\inspect.py\", line 1503, in getinnerframes\n",
      "    frameinfo = (tb.tb_frame,) + getframeinfo(tb, context)\n",
      "AttributeError: 'tuple' object has no attribute 'tb_frame'\n"
     ]
    },
    {
     "ename": "TypeError",
     "evalue": "object of type 'NoneType' has no len()",
     "output_type": "error",
     "traceback": [
      "\u001B[1;31m---------------------------------------------------------------------------\u001B[0m",
      "\u001B[1;31mSerialException\u001B[0m                           Traceback (most recent call last)",
      "\u001B[1;32m~\\Documents\\2. Msc Systems & Control\\SC42150 - Statistical Signal Processing\\Communication.py\u001B[0m in \u001B[0;36m__init__\u001B[1;34m(self)\u001B[0m\n\u001B[0;32m     35\u001B[0m         \u001B[1;32mtry\u001B[0m\u001B[1;33m:\u001B[0m\u001B[1;33m\u001B[0m\u001B[1;33m\u001B[0m\u001B[0m\n\u001B[1;32m---> 36\u001B[1;33m             self.serialPort = serial.Serial(  # create serial object\n\u001B[0m\u001B[0;32m     37\u001B[0m                 self.port_nr, self.baudrate, timeout=0, rtscts=True)\n",
      "\u001B[1;32mc:\\users\\danny\\documents\\2. msc systems & control\\sc42150 - statistical signal processing\\venv\\lib\\site-packages\\serial\\serialwin32.py\u001B[0m in \u001B[0;36m__init__\u001B[1;34m(self, *args, **kwargs)\u001B[0m\n\u001B[0;32m     30\u001B[0m         \u001B[0mself\u001B[0m\u001B[1;33m.\u001B[0m\u001B[0m_overlapped_write\u001B[0m \u001B[1;33m=\u001B[0m \u001B[1;32mNone\u001B[0m\u001B[1;33m\u001B[0m\u001B[1;33m\u001B[0m\u001B[0m\n\u001B[1;32m---> 31\u001B[1;33m         \u001B[0msuper\u001B[0m\u001B[1;33m(\u001B[0m\u001B[0mSerial\u001B[0m\u001B[1;33m,\u001B[0m \u001B[0mself\u001B[0m\u001B[1;33m)\u001B[0m\u001B[1;33m.\u001B[0m\u001B[0m__init__\u001B[0m\u001B[1;33m(\u001B[0m\u001B[1;33m*\u001B[0m\u001B[0margs\u001B[0m\u001B[1;33m,\u001B[0m \u001B[1;33m**\u001B[0m\u001B[0mkwargs\u001B[0m\u001B[1;33m)\u001B[0m\u001B[1;33m\u001B[0m\u001B[1;33m\u001B[0m\u001B[0m\n\u001B[0m\u001B[0;32m     32\u001B[0m \u001B[1;33m\u001B[0m\u001B[0m\n",
      "\u001B[1;32mc:\\users\\danny\\documents\\2. msc systems & control\\sc42150 - statistical signal processing\\venv\\lib\\site-packages\\serial\\serialutil.py\u001B[0m in \u001B[0;36m__init__\u001B[1;34m(self, port, baudrate, bytesize, parity, stopbits, timeout, xonxoff, rtscts, write_timeout, dsrdtr, inter_byte_timeout, exclusive, **kwargs)\u001B[0m\n\u001B[0;32m    239\u001B[0m         \u001B[1;32mif\u001B[0m \u001B[0mport\u001B[0m \u001B[1;32mis\u001B[0m \u001B[1;32mnot\u001B[0m \u001B[1;32mNone\u001B[0m\u001B[1;33m:\u001B[0m\u001B[1;33m\u001B[0m\u001B[1;33m\u001B[0m\u001B[0m\n\u001B[1;32m--> 240\u001B[1;33m             \u001B[0mself\u001B[0m\u001B[1;33m.\u001B[0m\u001B[0mopen\u001B[0m\u001B[1;33m(\u001B[0m\u001B[1;33m)\u001B[0m\u001B[1;33m\u001B[0m\u001B[1;33m\u001B[0m\u001B[0m\n\u001B[0m\u001B[0;32m    241\u001B[0m \u001B[1;33m\u001B[0m\u001B[0m\n",
      "\u001B[1;32mc:\\users\\danny\\documents\\2. msc systems & control\\sc42150 - statistical signal processing\\venv\\lib\\site-packages\\serial\\serialwin32.py\u001B[0m in \u001B[0;36mopen\u001B[1;34m(self)\u001B[0m\n\u001B[0;32m     61\u001B[0m             \u001B[0mself\u001B[0m\u001B[1;33m.\u001B[0m\u001B[0m_port_handle\u001B[0m \u001B[1;33m=\u001B[0m \u001B[1;32mNone\u001B[0m    \u001B[1;31m# 'cause __del__ is called anyway\u001B[0m\u001B[1;33m\u001B[0m\u001B[1;33m\u001B[0m\u001B[0m\n\u001B[1;32m---> 62\u001B[1;33m             \u001B[1;32mraise\u001B[0m \u001B[0mSerialException\u001B[0m\u001B[1;33m(\u001B[0m\u001B[1;34m\"could not open port {!r}: {!r}\"\u001B[0m\u001B[1;33m.\u001B[0m\u001B[0mformat\u001B[0m\u001B[1;33m(\u001B[0m\u001B[0mself\u001B[0m\u001B[1;33m.\u001B[0m\u001B[0mportstr\u001B[0m\u001B[1;33m,\u001B[0m \u001B[0mctypes\u001B[0m\u001B[1;33m.\u001B[0m\u001B[0mWinError\u001B[0m\u001B[1;33m(\u001B[0m\u001B[1;33m)\u001B[0m\u001B[1;33m)\u001B[0m\u001B[1;33m)\u001B[0m\u001B[1;33m\u001B[0m\u001B[1;33m\u001B[0m\u001B[0m\n\u001B[0m\u001B[0;32m     63\u001B[0m \u001B[1;33m\u001B[0m\u001B[0m\n",
      "\u001B[1;31mSerialException\u001B[0m: could not open port 'COM3': PermissionError(13, 'Access is denied.', None, 5)",
      "\nDuring handling of the above exception, another exception occurred:\n",
      "\u001B[1;31mSystemExit\u001B[0m                                Traceback (most recent call last)",
      "    \u001B[1;31m[... skipping hidden 1 frame]\u001B[0m\n",
      "\u001B[1;32m<ipython-input-2-edf684283093>\u001B[0m in \u001B[0;36m<module>\u001B[1;34m\u001B[0m\n\u001B[0;32m      5\u001B[0m \u001B[1;31m# Instantiate communication object\u001B[0m\u001B[1;33m\u001B[0m\u001B[1;33m\u001B[0m\u001B[1;33m\u001B[0m\u001B[0m\n\u001B[1;32m----> 6\u001B[1;33m \u001B[0mtransmit\u001B[0m \u001B[1;33m=\u001B[0m \u001B[0mCommunication\u001B[0m\u001B[1;33m.\u001B[0m\u001B[0mComm\u001B[0m\u001B[1;33m(\u001B[0m\u001B[1;33m)\u001B[0m\u001B[1;33m\u001B[0m\u001B[1;33m\u001B[0m\u001B[0m\n\u001B[0m\u001B[0;32m      7\u001B[0m \u001B[1;33m\u001B[0m\u001B[0m\n",
      "\u001B[1;32m~\\Documents\\2. Msc Systems & Control\\SC42150 - Statistical Signal Processing\\Communication.py\u001B[0m in \u001B[0;36m__init__\u001B[1;34m(self)\u001B[0m\n\u001B[0;32m     40\u001B[0m         \u001B[1;32mexcept\u001B[0m \u001B[0mserial\u001B[0m\u001B[1;33m.\u001B[0m\u001B[0mSerialException\u001B[0m\u001B[1;33m:\u001B[0m\u001B[1;33m\u001B[0m\u001B[1;33m\u001B[0m\u001B[0m\n\u001B[1;32m---> 41\u001B[1;33m             \u001B[0msys\u001B[0m\u001B[1;33m.\u001B[0m\u001B[0mexit\u001B[0m\u001B[1;33m(\u001B[0m\u001B[1;34m\"No device connected or recognized\"\u001B[0m\u001B[1;33m)\u001B[0m  \u001B[1;31m# if no ports are found, exit the program\u001B[0m\u001B[1;33m\u001B[0m\u001B[1;33m\u001B[0m\u001B[0m\n\u001B[0m\u001B[0;32m     42\u001B[0m \u001B[1;33m\u001B[0m\u001B[0m\n",
      "\u001B[1;31mSystemExit\u001B[0m: No device connected or recognized",
      "\nDuring handling of the above exception, another exception occurred:\n",
      "\u001B[1;31mTypeError\u001B[0m                                 Traceback (most recent call last)",
      "    \u001B[1;31m[... skipping hidden 1 frame]\u001B[0m\n",
      "\u001B[1;32mc:\\users\\danny\\documents\\2. msc systems & control\\sc42150 - statistical signal processing\\venv\\lib\\site-packages\\IPython\\core\\interactiveshell.py\u001B[0m in \u001B[0;36mshowtraceback\u001B[1;34m(self, exc_tuple, filename, tb_offset, exception_only, running_compiled_code)\u001B[0m\n\u001B[0;32m   2035\u001B[0m                     stb = ['An exception has occurred, use %tb to see '\n\u001B[0;32m   2036\u001B[0m                            'the full traceback.\\n']\n\u001B[1;32m-> 2037\u001B[1;33m                     stb.extend(self.InteractiveTB.get_exception_only(etype,\n\u001B[0m\u001B[0;32m   2038\u001B[0m                                                                      value))\n\u001B[0;32m   2039\u001B[0m                 \u001B[1;32melse\u001B[0m\u001B[1;33m:\u001B[0m\u001B[1;33m\u001B[0m\u001B[1;33m\u001B[0m\u001B[0m\n",
      "\u001B[1;32mc:\\users\\danny\\documents\\2. msc systems & control\\sc42150 - statistical signal processing\\venv\\lib\\site-packages\\IPython\\core\\ultratb.py\u001B[0m in \u001B[0;36mget_exception_only\u001B[1;34m(self, etype, value)\u001B[0m\n\u001B[0;32m    821\u001B[0m         \u001B[0mvalue\u001B[0m \u001B[1;33m:\u001B[0m \u001B[0mexception\u001B[0m \u001B[0mvalue\u001B[0m\u001B[1;33m\u001B[0m\u001B[1;33m\u001B[0m\u001B[0m\n\u001B[0;32m    822\u001B[0m         \"\"\"\n\u001B[1;32m--> 823\u001B[1;33m         \u001B[1;32mreturn\u001B[0m \u001B[0mListTB\u001B[0m\u001B[1;33m.\u001B[0m\u001B[0mstructured_traceback\u001B[0m\u001B[1;33m(\u001B[0m\u001B[0mself\u001B[0m\u001B[1;33m,\u001B[0m \u001B[0metype\u001B[0m\u001B[1;33m,\u001B[0m \u001B[0mvalue\u001B[0m\u001B[1;33m)\u001B[0m\u001B[1;33m\u001B[0m\u001B[1;33m\u001B[0m\u001B[0m\n\u001B[0m\u001B[0;32m    824\u001B[0m \u001B[1;33m\u001B[0m\u001B[0m\n\u001B[0;32m    825\u001B[0m     \u001B[1;32mdef\u001B[0m \u001B[0mshow_exception_only\u001B[0m\u001B[1;33m(\u001B[0m\u001B[0mself\u001B[0m\u001B[1;33m,\u001B[0m \u001B[0metype\u001B[0m\u001B[1;33m,\u001B[0m \u001B[0mevalue\u001B[0m\u001B[1;33m)\u001B[0m\u001B[1;33m:\u001B[0m\u001B[1;33m\u001B[0m\u001B[1;33m\u001B[0m\u001B[0m\n",
      "\u001B[1;32mc:\\users\\danny\\documents\\2. msc systems & control\\sc42150 - statistical signal processing\\venv\\lib\\site-packages\\IPython\\core\\ultratb.py\u001B[0m in \u001B[0;36mstructured_traceback\u001B[1;34m(self, etype, evalue, etb, tb_offset, context)\u001B[0m\n\u001B[0;32m    696\u001B[0m             \u001B[0mchained_exceptions_tb_offset\u001B[0m \u001B[1;33m=\u001B[0m \u001B[1;36m0\u001B[0m\u001B[1;33m\u001B[0m\u001B[1;33m\u001B[0m\u001B[0m\n\u001B[0;32m    697\u001B[0m             out_list = (\n\u001B[1;32m--> 698\u001B[1;33m                 self.structured_traceback(\n\u001B[0m\u001B[0;32m    699\u001B[0m                     \u001B[0metype\u001B[0m\u001B[1;33m,\u001B[0m \u001B[0mevalue\u001B[0m\u001B[1;33m,\u001B[0m \u001B[1;33m(\u001B[0m\u001B[0metb\u001B[0m\u001B[1;33m,\u001B[0m \u001B[0mchained_exc_ids\u001B[0m\u001B[1;33m)\u001B[0m\u001B[1;33m,\u001B[0m\u001B[1;33m\u001B[0m\u001B[1;33m\u001B[0m\u001B[0m\n\u001B[0;32m    700\u001B[0m                     chained_exceptions_tb_offset, context)\n",
      "\u001B[1;32mc:\\users\\danny\\documents\\2. msc systems & control\\sc42150 - statistical signal processing\\venv\\lib\\site-packages\\IPython\\core\\ultratb.py\u001B[0m in \u001B[0;36mstructured_traceback\u001B[1;34m(self, etype, value, tb, tb_offset, number_of_lines_of_context)\u001B[0m\n\u001B[0;32m   1433\u001B[0m         \u001B[1;32melse\u001B[0m\u001B[1;33m:\u001B[0m\u001B[1;33m\u001B[0m\u001B[1;33m\u001B[0m\u001B[0m\n\u001B[0;32m   1434\u001B[0m             \u001B[0mself\u001B[0m\u001B[1;33m.\u001B[0m\u001B[0mtb\u001B[0m \u001B[1;33m=\u001B[0m \u001B[0mtb\u001B[0m\u001B[1;33m\u001B[0m\u001B[1;33m\u001B[0m\u001B[0m\n\u001B[1;32m-> 1435\u001B[1;33m         return FormattedTB.structured_traceback(\n\u001B[0m\u001B[0;32m   1436\u001B[0m             self, etype, value, tb, tb_offset, number_of_lines_of_context)\n\u001B[0;32m   1437\u001B[0m \u001B[1;33m\u001B[0m\u001B[0m\n",
      "\u001B[1;32mc:\\users\\danny\\documents\\2. msc systems & control\\sc42150 - statistical signal processing\\venv\\lib\\site-packages\\IPython\\core\\ultratb.py\u001B[0m in \u001B[0;36mstructured_traceback\u001B[1;34m(self, etype, value, tb, tb_offset, number_of_lines_of_context)\u001B[0m\n\u001B[0;32m   1333\u001B[0m         \u001B[1;32mif\u001B[0m \u001B[0mmode\u001B[0m \u001B[1;32min\u001B[0m \u001B[0mself\u001B[0m\u001B[1;33m.\u001B[0m\u001B[0mverbose_modes\u001B[0m\u001B[1;33m:\u001B[0m\u001B[1;33m\u001B[0m\u001B[1;33m\u001B[0m\u001B[0m\n\u001B[0;32m   1334\u001B[0m             \u001B[1;31m# Verbose modes need a full traceback\u001B[0m\u001B[1;33m\u001B[0m\u001B[1;33m\u001B[0m\u001B[1;33m\u001B[0m\u001B[0m\n\u001B[1;32m-> 1335\u001B[1;33m             return VerboseTB.structured_traceback(\n\u001B[0m\u001B[0;32m   1336\u001B[0m                 \u001B[0mself\u001B[0m\u001B[1;33m,\u001B[0m \u001B[0metype\u001B[0m\u001B[1;33m,\u001B[0m \u001B[0mvalue\u001B[0m\u001B[1;33m,\u001B[0m \u001B[0mtb\u001B[0m\u001B[1;33m,\u001B[0m \u001B[0mtb_offset\u001B[0m\u001B[1;33m,\u001B[0m \u001B[0mnumber_of_lines_of_context\u001B[0m\u001B[1;33m\u001B[0m\u001B[1;33m\u001B[0m\u001B[0m\n\u001B[0;32m   1337\u001B[0m             )\n",
      "\u001B[1;32mc:\\users\\danny\\documents\\2. msc systems & control\\sc42150 - statistical signal processing\\venv\\lib\\site-packages\\IPython\\core\\ultratb.py\u001B[0m in \u001B[0;36mstructured_traceback\u001B[1;34m(self, etype, evalue, etb, tb_offset, number_of_lines_of_context)\u001B[0m\n\u001B[0;32m   1190\u001B[0m         \u001B[1;34m\"\"\"Return a nice text document describing the traceback.\"\"\"\u001B[0m\u001B[1;33m\u001B[0m\u001B[1;33m\u001B[0m\u001B[0m\n\u001B[0;32m   1191\u001B[0m \u001B[1;33m\u001B[0m\u001B[0m\n\u001B[1;32m-> 1192\u001B[1;33m         formatted_exception = self.format_exception_as_a_whole(etype, evalue, etb, number_of_lines_of_context,\n\u001B[0m\u001B[0;32m   1193\u001B[0m                                                                tb_offset)\n\u001B[0;32m   1194\u001B[0m \u001B[1;33m\u001B[0m\u001B[0m\n",
      "\u001B[1;32mc:\\users\\danny\\documents\\2. msc systems & control\\sc42150 - statistical signal processing\\venv\\lib\\site-packages\\IPython\\core\\ultratb.py\u001B[0m in \u001B[0;36mformat_exception_as_a_whole\u001B[1;34m(self, etype, evalue, etb, number_of_lines_of_context, tb_offset)\u001B[0m\n\u001B[0;32m   1148\u001B[0m \u001B[1;33m\u001B[0m\u001B[0m\n\u001B[0;32m   1149\u001B[0m \u001B[1;33m\u001B[0m\u001B[0m\n\u001B[1;32m-> 1150\u001B[1;33m         \u001B[0mlast_unique\u001B[0m\u001B[1;33m,\u001B[0m \u001B[0mrecursion_repeat\u001B[0m \u001B[1;33m=\u001B[0m \u001B[0mfind_recursion\u001B[0m\u001B[1;33m(\u001B[0m\u001B[0morig_etype\u001B[0m\u001B[1;33m,\u001B[0m \u001B[0mevalue\u001B[0m\u001B[1;33m,\u001B[0m \u001B[0mrecords\u001B[0m\u001B[1;33m)\u001B[0m\u001B[1;33m\u001B[0m\u001B[1;33m\u001B[0m\u001B[0m\n\u001B[0m\u001B[0;32m   1151\u001B[0m \u001B[1;33m\u001B[0m\u001B[0m\n\u001B[0;32m   1152\u001B[0m         \u001B[0mframes\u001B[0m \u001B[1;33m=\u001B[0m \u001B[0mself\u001B[0m\u001B[1;33m.\u001B[0m\u001B[0mformat_records\u001B[0m\u001B[1;33m(\u001B[0m\u001B[0mrecords\u001B[0m\u001B[1;33m,\u001B[0m \u001B[0mlast_unique\u001B[0m\u001B[1;33m,\u001B[0m \u001B[0mrecursion_repeat\u001B[0m\u001B[1;33m)\u001B[0m\u001B[1;33m\u001B[0m\u001B[1;33m\u001B[0m\u001B[0m\n",
      "\u001B[1;32mc:\\users\\danny\\documents\\2. msc systems & control\\sc42150 - statistical signal processing\\venv\\lib\\site-packages\\IPython\\core\\ultratb.py\u001B[0m in \u001B[0;36mfind_recursion\u001B[1;34m(etype, value, records)\u001B[0m\n\u001B[0;32m    449\u001B[0m     \u001B[1;31m# first frame (from in to out) that looks different.\u001B[0m\u001B[1;33m\u001B[0m\u001B[1;33m\u001B[0m\u001B[1;33m\u001B[0m\u001B[0m\n\u001B[0;32m    450\u001B[0m     \u001B[1;32mif\u001B[0m \u001B[1;32mnot\u001B[0m \u001B[0mis_recursion_error\u001B[0m\u001B[1;33m(\u001B[0m\u001B[0metype\u001B[0m\u001B[1;33m,\u001B[0m \u001B[0mvalue\u001B[0m\u001B[1;33m,\u001B[0m \u001B[0mrecords\u001B[0m\u001B[1;33m)\u001B[0m\u001B[1;33m:\u001B[0m\u001B[1;33m\u001B[0m\u001B[1;33m\u001B[0m\u001B[0m\n\u001B[1;32m--> 451\u001B[1;33m         \u001B[1;32mreturn\u001B[0m \u001B[0mlen\u001B[0m\u001B[1;33m(\u001B[0m\u001B[0mrecords\u001B[0m\u001B[1;33m)\u001B[0m\u001B[1;33m,\u001B[0m \u001B[1;36m0\u001B[0m\u001B[1;33m\u001B[0m\u001B[1;33m\u001B[0m\u001B[0m\n\u001B[0m\u001B[0;32m    452\u001B[0m \u001B[1;33m\u001B[0m\u001B[0m\n\u001B[0;32m    453\u001B[0m     \u001B[1;31m# Select filename, lineno, func_name to track frames with\u001B[0m\u001B[1;33m\u001B[0m\u001B[1;33m\u001B[0m\u001B[1;33m\u001B[0m\u001B[0m\n",
      "\u001B[1;31mTypeError\u001B[0m: object of type 'NoneType' has no len()"
     ]
    }
   ],
   "source": [
    "# Load modules\n",
    "import Communication\n",
    "import Audio\n",
    "\n",
    "# Instantiate communication object \n",
    "transmit = Communication.Comm()\n",
    "\n",
    "# Load audio \n",
    "length_seconds = 5\n",
    "datasend = Audio.read_audiofile('gong.wav',length_seconds)\n",
    "\n",
    "# Send\n",
    "transmit.write(datasend)  "
   ]
  },
  {
   "cell_type": "markdown",
   "metadata": {},
   "source": [
    "**Troubleshooting:** if you have problems transmitting the signal, try disconnecting **both** devices and connecting them again. The ports may be overflowed with data after long periods of time or there may be a poor connection. If the problem persists, also try restarting the Jupyter notebook's kernel."
   ]
  },
  {
   "cell_type": "markdown",
   "metadata": {},
   "source": [
    "### Play the signal\n",
    "Go to this section after you **received** a signal.\n",
    "Play the audio, can you hear the signal through the noise? If you can't hear it at all, try to reduce the distance between the transmitter and receiver devices."
   ]
  },
  {
   "cell_type": "code",
   "execution_count": 14,
   "metadata": {},
   "outputs": [],
   "source": [
    "#import sounddevice as sim\n",
    "import sounddevice as sd\n",
    "\n",
    "# function for playing a signal\n",
    "# You can use it further if you want to listen smth\n",
    "\n",
    "def play_signal( signal ):\n",
    "    sd.play( signal.astype('int16'), 22050 )"
   ]
  },
  {
   "cell_type": "code",
   "execution_count": 15,
   "metadata": {},
   "outputs": [],
   "source": [
    "play_signal(audio_sig)"
   ]
  },
  {
   "cell_type": "markdown",
   "metadata": {},
   "source": [
    "### Display signal and noise source"
   ]
  },
  {
   "cell_type": "code",
   "execution_count": 16,
   "metadata": {},
   "outputs": [
    {
     "data": {
      "text/plain": "<Figure size 1080x360 with 1 Axes>",
      "image/png": "[encoded data removed]"
     },
     "metadata": {
      "needs_background": "light"
     },
     "output_type": "display_data"
    }
   ],
   "source": [
    "import matplotlib.pyplot as plt\n",
    "t = np.arange(0.,  audio_sig.shape[0]/22050, 1/22050)\n",
    "plt.figure(figsize=(15, 5))\n",
    "plt.plot(t,audio_sig,'g', linewidth=0.7, label='raw audio')\n",
    "plt.plot(t,channelNoise_sig,'b', linewidth=0.7, label='correlated noise')\n",
    "plt.ylabel('PCM []')\n",
    "plt.xlabel('time [s]')\n",
    "plt.grid(True)"
   ]
  },
  {
   "cell_type": "markdown",
   "metadata": {},
   "source": [
    "### Saving the signal with the noise as a .mat file\n",
    "Run this section after you received and played a signal.\n",
    "It will save the audio signals as a .mat file. With this file, you no longer need the RF comminication hardware to proceed with this assignment. Note that this is the .mat file you will need to hand-in together with the Jupyter notebook with your answers."
   ]
  },
  {
   "cell_type": "code",
   "execution_count": 17,
   "metadata": {},
   "outputs": [
    {
     "name": "stdout",
     "output_type": "stream",
     "text": [
      "number of points = (109217,)\n"
     ]
    }
   ],
   "source": [
    "# saving the signals in .mat file\n",
    "import scipy.io as sciio\n",
    "\n",
    "sciio.savemat('audiodata.mat', mdict = {\n",
    "    'audio' : audio_sig,\n",
    "    'noise': channelNoise_sig,\n",
    "})\n",
    "\n",
    "print( f'number of points = {audio_sig.shape}' )"
   ]
  },
  {
   "cell_type": "markdown",
   "metadata": {},
   "source": [
    "### Load the .mat file"
   ]
  },
  {
   "cell_type": "code",
   "execution_count": 8,
   "metadata": {},
   "outputs": [
    {
     "name": "stdout",
     "output_type": "stream",
     "text": [
      "\n",
      "N = 109068\n"
     ]
    }
   ],
   "source": [
    "# packages\n",
    "import numpy as np\n",
    "import matplotlib.pyplot as plt\n",
    "import scipy.io as sio\n",
    "\n",
    "# load the data file\n",
    "data = sio.loadmat('audiodata.mat')  # contains data, (print to see)\n",
    "\n",
    "# constants\n",
    "N = len( data['audio'][0] ) # number of data points per signal\n",
    "x = np.arange( 0, N )  # point indices\n",
    "print( f'\\nN = {N}' )"
   ]
  },
  {
   "cell_type": "markdown",
   "metadata": {},
   "source": [
    "## Question 2\n",
    "\n",
    "Formulate the problem as a Minimum Variance FIR Wiener Problem, using the symbols $v_1, \\ v_2, \\ y, \\ \\hat{v}_1, \\ d,$ and $e$ as in the figure below. No numerical values are required in this part. It is sufficient to connect the theory to the practice by explaining the meaning of all the symbols and their relation to the two measured signals: *audio_sig* and *channelNoise_sig*. Also explain how to finally recover the interference-free audio signal when the Wiener problem has been solved. **(3 points)**\n",
    "\n",
    "![alt text][anc]\n",
    "\n",
    "[anc]: ./anc.JPG"
   ]
  },
  {
   "cell_type": "markdown",
   "metadata": {},
   "source": [
    "### Answer 2\n",
    "\n",
    "_Insert the cells with your answer below._"
   ]
  },
  {
   "cell_type": "markdown",
   "metadata": {},
   "source": [
    "## Question 3\n",
    "Determine the Wiener-Hopf equation for this problem, and explain how the different terms in the equation relate to the two measured signals. What assumptions do we use here to obtain the values of the filter $w$? **(2 points)**"
   ]
  },
  {
   "cell_type": "markdown",
   "metadata": {},
   "source": [
    "### Answer 3\n",
    "\n",
    "_Insert the cells with your answer below._"
   ]
  },
  {
   "cell_type": "markdown",
   "metadata": {},
   "source": [
    "## Question 4\n",
    "\n",
    "If only the measured signals are given, the auto- and cross-correlations used in the Wiener-Hopf equation need to be approximated. This can be done using the following formula:\n",
    "\n",
    "$$\\hat{r}_{v_2}(\\tau) = \\frac{1}{N-\\tau}\\sum_{n=\\tau + 1}^N v_2(n) v_2(n-\\tau),  \\quad \\hat{r}_{v_1 v_2}(\\tau) = \\frac{1}{N-\\tau}\\sum_{n=\\tau+1}^N v_1(n) v_2(n-\\tau).$$\n",
    "\n",
    "Calculate the approximations of the auto- and cross-correlations using the measured signals.\n",
    "Provide the used code and print the first $10$ values of the auto- and cross-correlations ($\\tau = 0, 1, \\ldots, 9$). **(3 points)**"
   ]
  },
  {
   "cell_type": "markdown",
   "metadata": {},
   "source": [
    "### Answer 4\n",
    "\n",
    "_Insert the cells with your answer below._"
   ]
  },
  {
   "cell_type": "markdown",
   "metadata": {},
   "source": [
    "## Question 5\n",
    "\n",
    "Using a 10-th order FIR Wiener filter, calculate the optimal filter coefficients. Provide the used code and print the 10 filter coeficients. *Hint: the `scipy.linalg.toeplitz` function may be useful for defining the covariance matrix*. **(3 points)**"
   ]
  },
  {
   "cell_type": "markdown",
   "metadata": {},
   "source": [
    "### Answer 5\n",
    "\n",
    "_Insert the cells with your answer below._"
   ]
  },
  {
   "cell_type": "markdown",
   "metadata": {},
   "source": [
    "## Question 6\n",
    "\n",
    "We can now use the filter $w_{opt}$ to obtain our estimate of the noiseless audio signal.\n",
    "Calculate the recovered audio signal using the optimal Wiener filter.\n",
    "Plot both the measured noise and the recovered noiseless audio signal. \n",
    "*Hint: the function `scipy.signal.lfilter` can be useful when using the Wiener filter*. **(3 points)**"
   ]
  },
  {
   "cell_type": "markdown",
   "metadata": {},
   "source": [
    "### Answer 6\n",
    "_Insert the cells with your answer below._"
   ]
  },
  {
   "cell_type": "markdown",
   "metadata": {},
   "source": [
    "## Question 7\n",
    "To investigate the effect of the filter order on the estimate of the audio bitstream, we will vary the filter order between $m= 2$ and $m= 20$. In you experiments, what is the minimum order necessary to remove the environmental noise? In other words, around what number does an increase in filter order no longer yield a significant improvement?  Justify your answer. **(3 points)**"
   ]
  },
  {
   "cell_type": "markdown",
   "metadata": {},
   "source": [
    "### Answer 7\n",
    "\n",
    "_Insert the cells with your answer below._"
   ]
  }
 ],
 "metadata": {
  "kernelspec": {
   "display_name": "Python 3",
   "language": "python",
   "name": "python3"
  },
  "language_info": {
   "codemirror_mode": {
    "name": "ipython",
    "version": 3
   },
   "file_extension": ".py",
   "mimetype": "text/x-python",
   "name": "python",
   "nbconvert_exporter": "python",
   "pygments_lexer": "ipython3",
   "version": "3.8.3"
  }
 },
 "nbformat": 4,
 "nbformat_minor": 2
}